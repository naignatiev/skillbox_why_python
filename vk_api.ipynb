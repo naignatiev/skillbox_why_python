{
 "cells": [
  {
   "cell_type": "markdown",
   "id": "c3d3a573-ba65-4ee1-a691-5d9adf2c67d8",
   "metadata": {},
   "source": [
    "# Introduction"
   ]
  },
  {
   "cell_type": "markdown",
   "id": "08fdfe50-08b5-41ce-a7ea-c965cc08408d",
   "metadata": {},
   "source": [
    "### Регистрируем приложение в VK API и получаем ключ для взаимодействия"
   ]
  },
  {
   "cell_type": "code",
   "execution_count": 44,
   "id": "30ea25d8-cd01-4a62-b9a8-c214a3075f06",
   "metadata": {},
   "outputs": [],
   "source": [
    "# SECRED_KEY = 'xwe4R4qiMXw1zX1k83uB'\n",
    "SERVICE_KEY = '69f1bf4169f1bf4169f1bf41c4698a68d8669f169f1bf410bcf652a5ca0c93055cdf5bd'"
   ]
  },
  {
   "cell_type": "markdown",
   "id": "f50fbec2-bd61-4057-b0ea-0042b1b99800",
   "metadata": {},
   "source": [
    "### Обращаемся за информацией к нему\n",
    "Это такое же обращение к сайту, как и когда вы просто сёрфите в интернете.\n",
    "\n",
    "**Создаём ссылку**:\n",
    "1. Название сайта\n",
    "2. 'method', потому что по этому адресу VK ждёт запросы\n",
    "3. Название метода группа точка метод. Объясняем VK, что мы от него хотим\n",
    "4. Параметры запроса:\n",
    "    * Конкретика -- какой конкретно объект мы хотим получить (его id)\n",
    "    * Свой ключ (пароль), чтобы сказать VK, что запросы отправляем именно мы\n",
    "    * Версия VK, которую мы хотим использовать"
   ]
  },
  {
   "cell_type": "code",
   "execution_count": 45,
   "id": "0d256fc6-5100-4669-9c48-c46fd5928cf8",
   "metadata": {},
   "outputs": [],
   "source": [
    "SITE_NAME = 'https://api.vk.com/'\n",
    "METHOD_FIELD = 'method/'\n",
    "SPECIFIC_METHOD = 'group.method?'\n",
    "VERSION = 'v=5.131&'\n",
    "ACCESS_TOKEN = 'access_token=' + SERVICE_KEY + '&'\n",
    "SPECIFIC_ID = 'id=...'\n",
    "URL = SITE_NAME + METHOD_FIELD + SPECIFIC_METHOD + VERSION + ACCESS_TOKEN + SPECIFIC_ID"
   ]
  },
  {
   "cell_type": "code",
   "execution_count": null,
   "id": "51187014-2247-430d-ba5f-8b03fd89801b",
   "metadata": {},
   "outputs": [],
   "source": [
    "from requests import get\n",
    "\n",
    "response = get(URL)"
   ]
  },
  {
   "cell_type": "markdown",
   "id": "c581786b-ad91-411a-b7b4-bffe36cdf640",
   "metadata": {},
   "source": [
    "# Пересечение подписчиков двух групп"
   ]
  },
  {
   "cell_type": "code",
   "execution_count": null,
   "id": "01e3ed7f-f229-450d-aea0-5aff2b1011f0",
   "metadata": {},
   "outputs": [],
   "source": []
  },
  {
   "cell_type": "markdown",
   "id": "3b6f972b-a3c2-4032-bf25-1ff2cc6ec1c1",
   "metadata": {},
   "source": [
    "# Статистика лайкнувших пост"
   ]
  },
  {
   "cell_type": "code",
   "execution_count": null,
   "id": "2eed1fc1-e5fa-418a-8c0a-287bafe1b28e",
   "metadata": {},
   "outputs": [],
   "source": []
  },
  {
   "cell_type": "markdown",
   "id": "de6b3664-5024-4eb3-b67b-142a6e4243b4",
   "metadata": {},
   "source": [
    "# Загрузить фотографии из альбома"
   ]
  },
  {
   "cell_type": "code",
   "execution_count": null,
   "id": "723766c5-27be-4011-8cad-ff8ec17d045f",
   "metadata": {},
   "outputs": [],
   "source": []
  }
 ],
 "metadata": {
  "kernelspec": {
   "display_name": "Python 3 (ipykernel)",
   "language": "python",
   "name": "python3"
  },
  "language_info": {
   "codemirror_mode": {
    "name": "ipython",
    "version": 3
   },
   "file_extension": ".py",
   "mimetype": "text/x-python",
   "name": "python",
   "nbconvert_exporter": "python",
   "pygments_lexer": "ipython3",
   "version": "3.9.13"
  }
 },
 "nbformat": 4,
 "nbformat_minor": 5
}
